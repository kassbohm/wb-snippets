{
  "nbformat_minor": 1, 
  "nbformat": 4, 
  "cells": [
    {
      "source": [
        "from sympy import *\n", 
        "from sympy.physics.units import *\n", 
        "\n", 
        "alpha, beta, gamma, delta, lamda = \\\n", 
        "var(\"alpha, beta, gamma, delta, lamda\")\n", 
        "\n", 
        "x, y, z = var(\"x, y, z\")\n", 
        "\n", 
        "ux =  alpha * x  + beta * y\n", 
        "uy =  gamma * y + delta * z\n", 
        "uz = -delta * y + lamda * z\n", 
        "\n", 
        "exx = diff(ux, x)\n", 
        "eyy = diff(uy, y)\n", 
        "ezz = diff(uz, z)\n", 
        "exy = (diff(ux, y) + diff(uy, x))/2\n", 
        "exz = (diff(ux, z) + diff(uz, x))/2\n", 
        "eyz = (diff(uy, z) + diff(uz, y))/2\n", 
        "\n", 
        "E = Matrix([\n", 
        "    [exx, exy, exz],\n", 
        "    [exy, eyy, eyz],\n", 
        "    [exz, eyz, ezz],\n", 
        "    ])\n", 
        "pprint(E)"
      ], 
      "cell_type": "code", 
      "execution_count": null, 
      "outputs": [], 
      "metadata": {}
    }
  ], 
  "metadata": {
    "kernelspec": {
      "display_name": "Python 3", 
      "name": "python3", 
      "language": "python"
    }, 
    "language_info": {
      "mimetype": "text/x-python", 
      "nbconvert_exporter": "python", 
      "name": "python", 
      "file_extension": ".py", 
      "version": "3.6.1", 
      "pygments_lexer": "ipython3", 
      "codemirror_mode": {
        "version": 3, 
        "name": "ipython"
      }
    }, 
    "anaconda-cloud": {}
  }
}