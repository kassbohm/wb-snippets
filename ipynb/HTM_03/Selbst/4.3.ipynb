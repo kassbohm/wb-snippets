{
  "cells": [
    {
      "cell_type": "code",
      "metadata": {},
      "source": [
        "# https://colab.research.google.com/github/kassbohm/wb-snippets/blob/master/ipynb/HTM_03/Selbst/4.3.ipynb\n",
        "\n",
        "from sympy import *\n",
        "\n",
        "l, m = var(\"l, m\", positive = True)\n",
        "a, t = var(\"alpha, theta\")\n",
        "\n",
        "ca, sa = cos(a), sin(a)\n",
        "ct, st = cos(t), sin(t)\n",
        "\n",
        "R2 = Matrix([\n",
        "    [ 1, 0,  0  ],\n",
        "    [ 0, ct, st ],\n",
        "    [ 0,-st, ct ]\n",
        "    ])\n",
        "R1 = Matrix([\n",
        "    [ ca, 0, -sa ],\n",
        "    [  0, 1,   0 ],\n",
        "    [ sa, 0, -ca ]\n",
        "    ])\n",
        "\n",
        "R = R2*R1\n",
        "Rt = R.transpose()\n",
        "\n",
        "JOt = Matrix([\n",
        "    [  1, 0, 0 ],\n",
        "    [  0, 0, 0 ],\n",
        "    [  0, 0, 1 ]\n",
        "    ])\n",
        "\n",
        "JO = Rt*JOt*R\n",
        "\n",
        "# Shortcuts:\n",
        "Ca, Sa, Ct, St = var(\"c\u2090, s\u2090, c\u209c, s\u209c\")\n",
        "\n",
        "sub_list = [\n",
        "    (ca, Ca),\n",
        "    (sa, Sa),\n",
        "    (ct, Ct),\n",
        "    (st, St),\n",
        "    ]\n",
        "\n",
        "JO = JO.subs(sub_list)\n",
        "pprint(\"\\nJO / (ml\u00b2/3):\")\n",
        "pprint(JO)\n",
        "\n",
        "# JO / (ml\u00b2/3):\n",
        "# \u23a1     2     2   2                       2           \u23a4\n",
        "# \u23a2   c\u2090  + c\u209c \u22c5s\u2090      -c\u209c\u22c5s\u2090\u22c5s\u209c  - c\u2090\u22c5c\u209c \u22c5s\u2090 - c\u2090\u22c5s\u2090\u23a5\n",
        "# \u23a2                                                   \u23a5\n",
        "# \u23a2                          2                        \u23a5\n",
        "# \u23a2     -c\u209c\u22c5s\u2090\u22c5s\u209c          s\u209c           c\u2090\u22c5c\u209c\u22c5s\u209c      \u23a5\n",
        "# \u23a2                                                   \u23a5\n",
        "# \u23a2       2                             2   2     2   \u23a5\n",
        "# \u23a3- c\u2090\u22c5c\u209c \u22c5s\u2090 - c\u2090\u22c5s\u2090  c\u2090\u22c5c\u209c\u22c5s\u209c      c\u2090 \u22c5c\u209c  + s\u2090    \u23a6\n"
      ],
      "outputs": [],
      "execution_count": null
    }
  ],
  "metadata": {
    "anaconda-cloud": {},
    "kernelspec": {
      "display_name": "Python 3",
      "language": "python",
      "name": "python3"
    },
    "language_info": {
      "codemirror_mode": {
        "name": "ipython",
        "version": 3
      },
      "file_extension": ".py",
      "mimetype": "text/x-python",
      "name": "python",
      "nbconvert_exporter": "python",
      "pygments_lexer": "ipython3",
      "version": "3.6.1"
    }
  },
  "nbformat": 4,
  "nbformat_minor": 1
}