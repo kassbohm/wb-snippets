{
  "cells": [
    {
      "cell_type": "code",
      "metadata": {},
      "source": [
        "EI = 1 *Newton*m**2\n",
        "l = 1 *m\n",
        "l2 = l*l\n",
        "\n",
        "K = EI/l**3\n",
        "K *= Matrix([\n",
        "[  18 ,  6*l, -3*l  ],\n",
        "[  6*l, 4*l2,  0    ],\n",
        "[ -3*l,   0,  2*l2  ],\n",
        "])\n",
        "\n",
        "pprint(\"\\nStiffness matrix / N:\")\n",
        "pprint(K/Newton)\n",
        "\n",
        "w2, p2m, p2p = var(\"w2, p2m, p2p\")\n",
        "u = Matrix([w2, p2m, p2p])\n",
        "f = Matrix([1*Newton,0,0])\n",
        "\n",
        "eq = Eq(K*u , f)\n",
        "sol = solve(eq, [w2, p2m, p2p])\n",
        "\n",
        "pprint(\"\\nSolution:\")\n",
        "pprint(sol)\n",
        "\n",
        "# Stiffness matrix / N:\n",
        "# \u23a118          \u23a4\n",
        "# \u23a2\u2500\u2500   6   -3 \u23a5\n",
        "# \u23a2m           \u23a5\n",
        "# \u23a2            \u23a5\n",
        "# \u23a26   4\u22c5m   0 \u23a5\n",
        "# \u23a2            \u23a5\n",
        "# \u23a3-3   0   2\u22c5m\u23a6\n",
        "#\n",
        "# Solution:\n",
        "# \u23a7                         2\u22c5m\u23ab\n",
        "# \u23a8p2m: -1/3, p2p: 1/3, w\u2082: \u2500\u2500\u2500\u23ac\n",
        "# \u23a9                          9 \u23ad\n"
      ],
      "outputs": [],
      "execution_count": null
    }
  ],
  "metadata": {
    "anaconda-cloud": {},
    "kernelspec": {
      "display_name": "Python 3",
      "language": "python",
      "name": "python3"
    },
    "language_info": {
      "codemirror_mode": {
        "name": "ipython",
        "version": 3
      },
      "file_extension": ".py",
      "mimetype": "text/x-python",
      "name": "python",
      "nbconvert_exporter": "python",
      "pygments_lexer": "ipython3",
      "version": "3.6.1"
    }
  },
  "nbformat": 4,
  "nbformat_minor": 1
}