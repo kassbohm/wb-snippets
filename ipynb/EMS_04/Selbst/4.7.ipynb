{
  "cells": [
    {
      "cell_type": "code",
      "metadata": {},
      "source": [
        "from sympy import *\n",
        "from sympy.physics.mechanics import *\n",
        "\n",
        "mass, R, c1, c2, grav = var(\"mass, R, c1, c2, grav\", real=True, positive=True)\n",
        "omega = var(\"omega\", real=True, positive=True)\n",
        "\n",
        "x, phi = dynamicsymbols('x, phi')\n",
        "xp, phip = dynamicsymbols('x, phi', 1)\n",
        "\n",
        "J = mass*R**2/2\n",
        "\n",
        "T = J*phip**2/2 + mass*xp**2/2\n",
        "U = - mass*grav*x + c1/2 * (x - R*phi)**2 + c2/2 * (x + R*phi)**2\n",
        "L = T - U\n",
        "\n",
        "pprint(\"\\nL:\")\n",
        "pprint(L)\n",
        "LM = LagrangesMethod(L, [x,phi])\n",
        "\n",
        "# pprint(L.expand().collect([p1,p2,p3,p4]))\n",
        "\n",
        "LM.form_lagranges_equations()\n",
        "M = LM.mass_matrix\n",
        "f = LM.forcing\n",
        "\n",
        "pprint(\"\\nMass matrix:\")\n",
        "pprint(M)\n",
        "pprint(\"\\nForce matrix (not stiffness matrix)\")\n",
        "pprint(f)\n",
        "for i in range(2):\n",
        "    print(\"--- Row \"+str(i+1)+\":\")\n",
        "    term = -1*f[i].expand()\n",
        "    pprint(term.collect([x,phi]))\n"
      ],
      "outputs": [],
      "execution_count": null
    }
  ],
  "metadata": {
    "anaconda-cloud": {},
    "kernelspec": {
      "display_name": "Python 3",
      "language": "python",
      "name": "python3"
    },
    "language_info": {
      "codemirror_mode": {
        "name": "ipython",
        "version": 3
      },
      "file_extension": ".py",
      "mimetype": "text/x-python",
      "name": "python",
      "nbconvert_exporter": "python",
      "pygments_lexer": "ipython3",
      "version": "3.6.1"
    }
  },
  "nbformat": 4,
  "nbformat_minor": 1
}