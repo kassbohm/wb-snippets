{
  "cells": [
    {
      "cell_type": "code",
      "metadata": {},
      "source": [
        "from sympy.physics.units import *\n",
        "from sympy import *\n",
        "\n",
        "sqrt2 = sqrt(2)\n",
        "\n",
        "# Given symbols:\n",
        "q0, l = var(\"q0, l\")\n",
        "\n",
        "x = var(\"x\")\n",
        "\n",
        "q = q0 * x / (sqrt2 * l)\n",
        "\n",
        "# R:\n",
        "R = integrate(q, (x, 0, sqrt2*l))\n",
        "pprint(\"\\nR:\")\n",
        "pprint(R)\n",
        "\n",
        "I = integrate(q * x, (x, 0, sqrt2*l))\n",
        "xR = I / R\n",
        "\n",
        "pprint(\" \\nx\u0280:\")\n",
        "pprint(xR)\n"
      ],
      "outputs": [],
      "execution_count": null
    }
  ],
  "metadata": {
    "anaconda-cloud": {},
    "kernelspec": {
      "display_name": "Python 3",
      "language": "python",
      "name": "python3"
    },
    "language_info": {
      "codemirror_mode": {
        "name": "ipython",
        "version": 3
      },
      "file_extension": ".py",
      "mimetype": "text/x-python",
      "name": "python",
      "nbconvert_exporter": "python",
      "pygments_lexer": "ipython3",
      "version": "3.6.1"
    }
  },
  "nbformat": 4,
  "nbformat_minor": 1
}