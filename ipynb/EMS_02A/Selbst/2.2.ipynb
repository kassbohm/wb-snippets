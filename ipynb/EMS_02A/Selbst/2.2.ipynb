{
  "cells": [
    {
      "cell_type": "code",
      "metadata": {},
      "source": [
        "from sympy import *\n",
        "from sympy.physics.units import *\n",
        "\n",
        "e0 = var(\"e0\")\n",
        "\n",
        "E = Matrix([\n",
        "    [2, 1, 0],\n",
        "    [1, 0, 0],\n",
        "    [0, 0, -1],\n",
        "    ])\n",
        "E *= e0\n",
        "\n",
        "n = Matrix([1, 1, 1])\n",
        "n /= sqrt(3)\n",
        "nT = n.transpose()\n",
        "\n",
        "En = E*n\n",
        "es = nT*En\n",
        "\n",
        "pprint(\"\\ne*:\")\n",
        "pprint(es)\n",
        "\n",
        "# e*:\n",
        "# [e\u2080]\n"
      ],
      "outputs": [],
      "execution_count": null
    }
  ],
  "metadata": {
    "anaconda-cloud": {},
    "kernelspec": {
      "display_name": "Python 3",
      "language": "python",
      "name": "python3"
    },
    "language_info": {
      "codemirror_mode": {
        "name": "ipython",
        "version": 3
      },
      "file_extension": ".py",
      "mimetype": "text/x-python",
      "name": "python",
      "nbconvert_exporter": "python",
      "pygments_lexer": "ipython3",
      "version": "3.6.1"
    }
  },
  "nbformat": 4,
  "nbformat_minor": 1
}