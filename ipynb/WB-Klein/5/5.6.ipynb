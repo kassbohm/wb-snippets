{
  "cells": [
    {
      "cell_type": "code",
      "metadata": {},
      "source": [
        "c = var(\"c\")\n",
        "\n",
        "K = Matrix([\n",
        "    [ 2*c , -c ],\n",
        "    [  -c ,  c ]\n",
        "    ])\n",
        "\n",
        "M, p2, p3 = var(\"M, p2, p3\")\n",
        "u = Matrix([p2, p3 ])\n",
        "f = Matrix([0, M ])\n",
        "\n",
        "eq = Eq(K*u , f)\n",
        "sol = solve(eq, [p2, p3])\n",
        "pprint(\"\\nSolution:\")\n",
        "pprint(sol)\n",
        "\n",
        "# Solution:\n",
        "# \u23a7    M      2\u22c5M\u23ab\n",
        "# \u23a8p\u2082: \u2500, p\u2083: \u2500\u2500\u2500\u23ac\n",
        "# \u23a9    c       c \u23ad\n"
      ],
      "outputs": [],
      "execution_count": null
    }
  ],
  "metadata": {
    "anaconda-cloud": {},
    "kernelspec": {
      "display_name": "Python 3",
      "language": "python",
      "name": "python3"
    },
    "language_info": {
      "codemirror_mode": {
        "name": "ipython",
        "version": 3
      },
      "file_extension": ".py",
      "mimetype": "text/x-python",
      "name": "python",
      "nbconvert_exporter": "python",
      "pygments_lexer": "ipython3",
      "version": "3.6.1"
    }
  },
  "nbformat": 4,
  "nbformat_minor": 1
}