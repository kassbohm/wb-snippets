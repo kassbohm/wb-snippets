{
  "cells": [
    {
      "cell_type": "code",
      "metadata": {},
      "source": [
        "from sympy import *\n",
        "\n",
        "F, l = var(\"F, l\")\n",
        "q = F/l\n",
        "R = q*l\n",
        "\n",
        "# Reactions:\n",
        "MA, Ah, Av, Gh, Gv, Bv = var(\"MA, Ah, Av, Gh, Gv, Bv\")\n",
        "\n",
        "eq1 = Eq(Ah + Gh)\n",
        "eq2 = Eq(Av + Gv - 2*R)\n",
        "eq3 = Eq(MA + 2*l*Gv - l*2*R)\n",
        "\n",
        "eq4 = Eq(- Gh - F - F)\n",
        "eq5 = Eq(- Gv - R - F - F + Bv)\n",
        "eq6 = Eq(- R/2 - F - 2*F + 3*Bv)\n",
        "\n",
        "eqns = [eq1, eq2, eq3, eq4, eq5, eq6]\n",
        "unks = [MA, Ah, Av, Gh, Gv, Bv]\n",
        "\n",
        "sol = solve(eqns, unks)\n",
        "pprint(sol)\n",
        "\n",
        "# Sections:\n",
        "x = var(\"x\")\n",
        "MA,Ah,Av,Gh,Gv,Bv = \\\n",
        "    sol[MA],sol[Ah],sol[Av],sol[Gh],sol[Gv],sol[Bv]\n",
        "\n",
        "# Region 1:\n",
        "N = - Ah\n",
        "Q = - q*x + Av\n",
        "M = - MA - q*x*x/2 + Av*x\n",
        "\n",
        "pprint(\"\\nN, Q, M:\")\n",
        "S = Matrix([N, Q, M])\n",
        "pprint(S)\n",
        "pprint(\"\\nAt x = 0:\")\n",
        "pprint(S.subs(x,0))\n",
        "pprint(\"\\nAt x = 3l:\")\n",
        "pprint(S.subs(x,3*l))\n"
      ],
      "outputs": [],
      "execution_count": null
    }
  ],
  "metadata": {
    "anaconda-cloud": {},
    "kernelspec": {
      "display_name": "Python 3",
      "language": "python",
      "name": "python3"
    },
    "language_info": {
      "codemirror_mode": {
        "name": "ipython",
        "version": 3
      },
      "file_extension": ".py",
      "mimetype": "text/x-python",
      "name": "python",
      "nbconvert_exporter": "python",
      "pygments_lexer": "ipython3",
      "version": "3.6.1"
    }
  },
  "nbformat": 4,
  "nbformat_minor": 1
}