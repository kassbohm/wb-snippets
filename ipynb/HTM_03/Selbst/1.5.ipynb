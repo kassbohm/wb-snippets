{
  "cells": [
    {
      "cell_type": "code",
      "metadata": {},
      "source": [
        "# https://colab.research.google.com/github/kassbohm/wb-snippets/blob/master/ipynb/HTM_03/Selbst/1.5.ipynb\n",
        "\n",
        "from sympy.physics.units import *\n",
        "from sympy import *\n",
        "\n",
        "phi, beta, l1, b, w1 = var(\"phi, beta, l1, b, omega1\")\n",
        "\n",
        "sub_list = [\n",
        "    (phi,   45 *pi/180),\n",
        "    (beta, 150 *pi/180),\n",
        "    (l1, 1*m / 10),\n",
        "    (b,  3*m / 10),\n",
        "    (w1,  1 / s),\n",
        "    ]\n",
        "\n",
        "# Unknowns:\n",
        "vAx, vAy, aAx, aAy = var(\"vAx, vAy, aAx, aAy\")\n",
        "bp, bpp = var(\"\u03b2', \u03b2''\")\n",
        "\n",
        "# Vectors:\n",
        "vA = Matrix([vAx, vAy, 0])\n",
        "aA = Matrix([aAx, aAy, 0])\n",
        "W1 = Matrix([0, 0, w1])\n",
        "cp, sp = cos(phi), sin(phi)\n",
        "d1A = l1 * Matrix([cp, sp, 0])\n",
        "\n",
        "# Equations:\n",
        "eq1 = Eq(vA, W1.cross(d1A))\n",
        "eq2 = Eq(aA, W1.cross(W1.cross(d1A)))\n",
        "\n",
        "pprint(\"\\nEquation 1:\")\n",
        "pprint(eq1)\n",
        "pprint(\"\\nEquation 2:\")\n",
        "pprint(eq2)\n",
        "\n",
        "pprint(\"\\nSolution:\")\n",
        "sol = solve([eq1, eq2], [vAx, vAy, aAx, aAy ])\n",
        "pprint(sol)\n",
        "\n",
        "vAxs, vAys, aAxs, aAys = sol[vAx], sol[vAy], sol[aAx], sol[aAy]\n",
        "vAs = Matrix([vAxs, vAys])\n",
        "aAs = Matrix([aAxs, aAys])\n",
        "\n",
        "pprint(\"\\nvA / (m/s):\")\n",
        "tmp = vAs.subs(sub_list)\n",
        "tmp /= (m/s)\n",
        "pprint(tmp)\n",
        "\n",
        "pprint(\"\\naA / (m/s\u00b2):\")\n",
        "tmp = aAs.subs(sub_list)\n",
        "tmp /= (m/s/s)\n",
        "pprint(tmp)\n"
      ],
      "outputs": [],
      "execution_count": null
    }
  ],
  "metadata": {
    "anaconda-cloud": {},
    "kernelspec": {
      "display_name": "Python 3",
      "language": "python",
      "name": "python3"
    },
    "language_info": {
      "codemirror_mode": {
        "name": "ipython",
        "version": 3
      },
      "file_extension": ".py",
      "mimetype": "text/x-python",
      "name": "python",
      "nbconvert_exporter": "python",
      "pygments_lexer": "ipython3",
      "version": "3.6.1"
    }
  },
  "nbformat": 4,
  "nbformat_minor": 1
}