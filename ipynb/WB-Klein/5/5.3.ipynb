{
  "cells": [
    {
      "cell_type": "code",
      "metadata": {},
      "source": [
        "def k(phi):\n",
        "    \"\"\" element stiffness matrix \"\"\"\n",
        "    # phi: Angle between two rays 1 and 2:\n",
        "    # 1: ray along global x axis and\n",
        "    # 2: ray along 1-2-axis of rod\n",
        "    # phi is counted positively about z.\n",
        "    (c, s) = ( cos(phi), sin(phi) )\n",
        "    (cc, ss, sc) = ( c*c, s*s, s*c)\n",
        "    return Matrix(\n",
        "        [\n",
        "        [ cc,  sc, -cc, -sc],\n",
        "        [ sc,  ss, -sc, -ss],\n",
        "        [-cc, -sc,  cc,  sc],\n",
        "        [-sc, -ss,  sc,  ss],\n",
        "        ])\n",
        "\n",
        "F, c = var(\"F, c\")\n",
        "\n",
        "# Stiffness Matrix:\n",
        "k1 = c*k(135 *pi/180)\n",
        "pprint(\"\\n\\nk1 / c: \")\n",
        "pprint(k1/c)\n",
        "\n",
        "# Linear System:\n",
        "u, F1x, F2x, F2y = var(\"u, F1x, F2x, F2y\")\n",
        "f_ = Matrix([F1x, -F/2, F2x, F2y])\n",
        "u_ = Matrix([0, -u, 0, 0])\n",
        "\n",
        "sol = solve(Eq(k1*u_,f_), [u, F1x, F2x, F2y], dict=True)\n",
        "pprint(\"\\n\\nSolution:\")\n",
        "pprint(sol[0])\n",
        "\n",
        "# k1 / c:\n",
        "# \u23a11/2   -1/2  -1/2  1/2 \u23a4\n",
        "# \u23a2                      \u23a5\n",
        "# \u23a2-1/2  1/2   1/2   -1/2\u23a5\n",
        "# \u23a2                      \u23a5\n",
        "# \u23a2-1/2  1/2   1/2   -1/2\u23a5\n",
        "# \u23a2                      \u23a5\n",
        "# \u23a31/2   -1/2  -1/2  1/2 \u23a6\n",
        "#\n",
        "#\n",
        "# Solution:\n",
        "# \u23a7     F       -F        F     F\u23ab\n",
        "# \u23a8F1x: \u2500, F2x: \u2500\u2500\u2500, F2y: \u2500, u: \u2500\u23ac\n",
        "# \u23a9     2        2        2     c\u23ad\n"
      ],
      "outputs": [],
      "execution_count": null
    }
  ],
  "metadata": {
    "anaconda-cloud": {},
    "kernelspec": {
      "display_name": "Python 3",
      "language": "python",
      "name": "python3"
    },
    "language_info": {
      "codemirror_mode": {
        "name": "ipython",
        "version": 3
      },
      "file_extension": ".py",
      "mimetype": "text/x-python",
      "name": "python",
      "nbconvert_exporter": "python",
      "pygments_lexer": "ipython3",
      "version": "3.6.1"
    }
  },
  "nbformat": 4,
  "nbformat_minor": 1
}