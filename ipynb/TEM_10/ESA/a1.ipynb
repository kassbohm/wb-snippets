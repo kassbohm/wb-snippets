{
  "cells": [
    {
      "cell_type": "code",
      "metadata": {},
      "source": [
        "from sympy import *\n",
        "\n",
        "F,l = var(\"F,l\")\n",
        "\n",
        "Ah,Av,Bh,Bv,Ch,Cv = var(\"Ah,Av,Bh,Bv,Ch,Cv\")\n",
        "\n",
        "# Correct:\n",
        "R = 3*F/2\n",
        "\n",
        "lu = l/sqrt(3)\n",
        "\n",
        "# left:\n",
        "e1 = Eq(Ah + Bh + F)\n",
        "e2 = Eq(Av + Bv - R)\n",
        "e3 = Eq(Bv*l - Bh*l - F*l/2 - R*7/18*l)\n",
        "\n",
        "e4 = Eq(Ch - Bh)\n",
        "e5 = Eq(Cv - F - Bv)\n",
        "e6 = Eq(F*lu/2 + Bv*lu + Bh*l)\n",
        "\n",
        "eqs = [e1,e2,e3,e4,e5,e6]\n",
        "unknowns = [Ah,Av,Bh,Bv,Ch,Cv]\n",
        "sol = solve(eqs,unknowns)\n",
        "\n",
        "pprint(\"Reactions / F:\")\n",
        "for v in  sorted(sol,key=default_sort_key):\n",
        "    pprint(\"\\n\\n\")\n",
        "    s = sol[v]\n",
        "    sF = (s/F).simplify()\n",
        "    pprint([v, sF, N(sF,2)])\n"
      ],
      "outputs": [],
      "execution_count": null
    }
  ],
  "metadata": {
    "anaconda-cloud": {},
    "kernelspec": {
      "display_name": "Python 3",
      "language": "python",
      "name": "python3"
    },
    "language_info": {
      "codemirror_mode": {
        "name": "ipython",
        "version": 3
      },
      "file_extension": ".py",
      "mimetype": "text/x-python",
      "name": "python",
      "nbconvert_exporter": "python",
      "pygments_lexer": "ipython3",
      "version": "3.6.1"
    }
  },
  "nbformat": 4,
  "nbformat_minor": 1
}