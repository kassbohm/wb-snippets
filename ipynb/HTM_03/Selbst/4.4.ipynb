{
  "cells": [
    {
      "cell_type": "code",
      "metadata": {},
      "source": [
        "from sympy import *\n",
        "\n",
        "pprint(\"\\nJK = JC-Components wrt K:\")\n",
        "JK = Matrix([\n",
        "    [  96,   0, -72 ],\n",
        "    [   0, 150,   0 ],\n",
        "    [ -72,   0,  54 ],\n",
        "    ])\n",
        "pprint(JK)\n",
        "\n",
        "pprint(\"\\nEigenvectors and Eigenvalues:\")\n",
        "tmp = JK.eigenvects()\n",
        "pprint(tmp)\n",
        "\n",
        "A, JE = JK.diagonalize(normalize=True)\n",
        "\n",
        "pprint(\"\\nJE = JC-Components wrt Eigenbasis:\")\n",
        "pprint(JE)\n",
        "\n",
        "pprint(\"\\nA, so that JK = A JE A\u1d40:\")\n",
        "pprint(A)\n",
        "\n",
        "pprint(\"\\nChecking: JK must be equal to A JE A\u1d40:\")\n",
        "tmp = A*JE*A.transpose()\n",
        "pprint(tmp)\n"
      ],
      "outputs": [],
      "execution_count": null
    }
  ],
  "metadata": {
    "anaconda-cloud": {},
    "kernelspec": {
      "display_name": "Python 3",
      "language": "python",
      "name": "python3"
    },
    "language_info": {
      "codemirror_mode": {
        "name": "ipython",
        "version": 3
      },
      "file_extension": ".py",
      "mimetype": "text/x-python",
      "name": "python",
      "nbconvert_exporter": "python",
      "pygments_lexer": "ipython3",
      "version": "3.6.1"
    }
  },
  "nbformat": 4,
  "nbformat_minor": 1
}