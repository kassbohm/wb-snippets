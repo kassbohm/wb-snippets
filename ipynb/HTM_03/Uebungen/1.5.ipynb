{
  "cells": [
    {
      "cell_type": "code",
      "metadata": {},
      "source": [
        " # https://colab.research.google.com/github/kassbohm/wb-snippets/blob/master/ipynb/HTM_03/Uebungen/1.5.ipynb\n",
        "\n",
        " from sympy import *\n",
        "\n",
        "a1, a2 = var(\"a1, a2\")\n",
        "\n",
        "w = var(\"omega\")\n",
        "al = var(\"alpha\")\n",
        "\n",
        "r1, r2 = var(\"r1, r2\")\n",
        "\n",
        "a = Matrix([a1,a2,0])\n",
        "r = Matrix([r1,r2,0])\n",
        "\n",
        "w = Matrix([0,0,w])\n",
        "al = Matrix([0,0,al])\n",
        "\n",
        "z = Matrix([0,0,0])\n",
        "\n",
        "eq = Eq(z, a + al.cross(r) + w.cross(w.cross(r)))\n",
        "# pprint(eq)\n",
        "\n",
        "sol = solve(eq, r)\n",
        "pprint(sol)\n",
        "\n",
        "# \u23a7              2                        2\u23ab\n",
        "# \u23aa          a\u2081\u22c5\u03c9  - a\u2082\u22c5\u03b1      a\u2081\u22c5\u03b1 + a\u2082\u22c5\u03c9 \u23aa\n",
        "# \u23a80: 0, r\u2081: \u2500\u2500\u2500\u2500\u2500\u2500\u2500\u2500\u2500\u2500\u2500\u2500, r\u2082: \u2500\u2500\u2500\u2500\u2500\u2500\u2500\u2500\u2500\u2500\u2500\u2500\u23ac\n",
        "# \u23aa             2    4            2    4   \u23aa\n",
        "# \u23a9            \u03b1  + \u03c9            \u03b1  + \u03c9    \u23ad\n"
      ],
      "outputs": [],
      "execution_count": null
    }
  ],
  "metadata": {
    "anaconda-cloud": {},
    "kernelspec": {
      "display_name": "Python 3",
      "language": "python",
      "name": "python3"
    },
    "language_info": {
      "codemirror_mode": {
        "name": "ipython",
        "version": 3
      },
      "file_extension": ".py",
      "mimetype": "text/x-python",
      "name": "python",
      "nbconvert_exporter": "python",
      "pygments_lexer": "ipython3",
      "version": "3.6.1"
    }
  },
  "nbformat": 4,
  "nbformat_minor": 1
}