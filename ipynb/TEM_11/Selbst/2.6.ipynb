{
  "cells": [
    {
      "cell_type": "code",
      "metadata": {},
      "source": [
        "# Aufgabe 2.6 aus TEM 11\n",
        "\n",
        "from sympy import *\n",
        "\n",
        "EI, q1, q2, l = var(\"EI, q1, q2, l\")\n",
        "C1, C2 = var(\"C1, C2\")\n",
        "x = var(\"x\")\n",
        "xi = var(\"xi\")\n",
        "\n",
        "pprint(\"\\nDef.: \u03be = x / l\")\n",
        "\n",
        "x3 = x**3\n",
        "x4 = x**4\n",
        "x5 = x**5\n",
        "\n",
        "t1 = l * (q1 + q2/2) * x3 / 18\n",
        "t2 = (q2 - q1) / l * x5 / 120\n",
        "t3 = q1*x4 / 24\n",
        "\n",
        "w = - 1/EI * (t1 - t2 - t3 + C1*x + C2)\n",
        "pprint(\"\\n\\nEI w:\")\n",
        "pprint(EI * w.subs(x, xi*l))\n",
        "\n",
        "# w(x=0)=0, w(x=l)=0:\n",
        "eq1 = Eq( w.subs(x,0), 0)\n",
        "eq2 = Eq( w.subs(x,l), 0)\n",
        "\n",
        "sol = solve([eq1, eq2],[C1, C2])\n",
        "\n",
        "C1s = sol[C1]\n",
        "C2s = sol[C2]\n",
        "\n",
        "pprint(\"\\n\\nC1:\")\n",
        "pprint(C1s)\n",
        "\n",
        "pprint(\"\\n\\nC2:\")\n",
        "pprint(C2s)\n",
        "\n",
        "w = w.subs({C1: C1s, C2: C2s})\n",
        "\n",
        "pprint(\"\\n\\n360 EI w / l\u2074:\")\n",
        "w = w * 360 * EI / l**4\n",
        "w = w.subs(x, xi*l)\n",
        "w = w.expand()\n",
        "pprint(collect(w,xi))\n"
      ],
      "outputs": [],
      "execution_count": null
    }
  ],
  "metadata": {
    "anaconda-cloud": {},
    "kernelspec": {
      "display_name": "Python 3",
      "language": "python",
      "name": "python3"
    },
    "language_info": {
      "codemirror_mode": {
        "name": "ipython",
        "version": 3
      },
      "file_extension": ".py",
      "mimetype": "text/x-python",
      "name": "python",
      "nbconvert_exporter": "python",
      "pygments_lexer": "ipython3",
      "version": "3.6.1"
    }
  },
  "nbformat": 4,
  "nbformat_minor": 1
}