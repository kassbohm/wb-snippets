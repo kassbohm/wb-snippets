{
  "cells": [
    {
      "cell_type": "code",
      "metadata": {},
      "source": [
        "F, E, A, l = var(\"F, E, A, l\")\n",
        "\n",
        "# Quantities:\n",
        "sub_list = [\n",
        "    ( F,        5 *kN    ),\n",
        "    ( E, 200*1000 *MPa   ),\n",
        "    ( A,       25 *mm**2 ),\n",
        "    ( l,     1707 *mm    ),\n",
        "    ]\n",
        "\n",
        "c = sqrt(2)/2\n",
        "EA = E*A\n",
        "S1, S2, dl1, dl2, u = var(\"S1, S2, dl1, dl2, u\")\n",
        "\n",
        "eq1 = Eq( F/2 + S2 + S1*c )\n",
        "eq2 = Eq( S1, EA*dl1 / (sqrt(2)*l) )\n",
        "eq3 = Eq( S2, EA/2*dl2/l )\n",
        "eq4 = Eq(dl1, -u*c)\n",
        "eq5 = Eq(dl2, -u)\n",
        "\n",
        "eqns = [eq1, eq2, eq3, eq4, eq5]\n",
        "unks = [S1, S2, dl1, dl2, u]\n",
        "sol = solve(eqns, unks)\n",
        "pprint(sol)\n",
        "\n",
        "u = sol[u]\n",
        "u = u.subs(sub_list)\n",
        "\n",
        "pprint(\"\\nu / mm:\")\n",
        "tmp = u\n",
        "tmp /= mm\n",
        "tmp = iso_round(tmp,0.001)\n",
        "pprint(tmp)\n",
        "\n",
        "# \u23a7      2\u22c5F   \u221a2\u22c5F        4\u22c5F   \u221a2\u22c5F         -\u221a2\u22c5F\u22c5l            -2\u22c5F\u22c5l            2\u22c5F\u22c5l    \u23ab\n",
        "# \u23a8S\u2081: - \u2500\u2500\u2500 + \u2500\u2500\u2500\u2500, S\u2082: - \u2500\u2500\u2500 + \u2500\u2500\u2500\u2500, dl\u2081: \u2500\u2500\u2500\u2500\u2500\u2500\u2500\u2500\u2500\u2500\u2500\u2500, dl\u2082: \u2500\u2500\u2500\u2500\u2500\u2500\u2500\u2500\u2500\u2500\u2500\u2500, u: \u2500\u2500\u2500\u2500\u2500\u2500\u2500\u2500\u2500\u2500\u2500\u2500\u23ac\n",
        "# \u23a9       7     14          7     7         A\u22c5E\u22c5(\u221a2 + 4)       A\u22c5E\u22c5(\u221a2 + 4)     A\u22c5E\u22c5(\u221a2 + 4)\u23ad\n",
        "#\n",
        "# u / mm:\n",
        "# 0.631\n"
      ],
      "outputs": [],
      "execution_count": null
    }
  ],
  "metadata": {
    "anaconda-cloud": {},
    "kernelspec": {
      "display_name": "Python 3",
      "language": "python",
      "name": "python3"
    },
    "language_info": {
      "codemirror_mode": {
        "name": "ipython",
        "version": 3
      },
      "file_extension": ".py",
      "mimetype": "text/x-python",
      "name": "python",
      "nbconvert_exporter": "python",
      "pygments_lexer": "ipython3",
      "version": "3.6.1"
    }
  },
  "nbformat": 4,
  "nbformat_minor": 1
}