{
  "cells": [
    {
      "cell_type": "code",
      "metadata": {},
      "source": [
        "from sympy import *\n",
        "\n",
        "# SI Base Units only:\n",
        "\n",
        "l = 1./10\n",
        "a = 1./10\n",
        "b = 1./100\n",
        "\n",
        "p1 = 30*pi/180\n",
        "\n",
        "c1, s1 = cos(p1), sin(p1)\n",
        "\n",
        "p2, p3 = var(\"phi2, phi3\",positive=True)\n",
        "\n",
        "c2, s2 = cos(p2), sin(p2)\n",
        "c3, s3 = cos(p3), sin(p3)\n",
        "\n",
        "rB = l/2 * Matrix([c1, s1])\n",
        "rD = Matrix([a, -b])\n",
        "\n",
        "dBC = l * Matrix([c2, s2])\n",
        "dDC = l * Matrix([c3, s3])\n",
        "\n",
        "tmp1 = rB + dBC\n",
        "x1 = tmp1[0]\n",
        "y1 = tmp1[1]\n",
        "\n",
        "tmp2 = rD + dDC\n",
        "x2 = tmp2[0]\n",
        "y2 = tmp2[1]\n",
        "\n",
        "dx = x2 - x1\n",
        "dy = y2 - y1\n",
        "\n",
        "sol = nsolve( [dx, dy], [p2, p3], [0. , 1.5] )\n",
        "p2 = sol[0]\n",
        "p3 = sol[1]\n",
        "pprint(N(p2*180./pi,3))\n",
        "pprint(N(p3*180./pi,3))\n",
        "\n",
        "c2, s2 = cos(p2), sin(p2)\n",
        "c3, s3 = cos(p3), sin(p3)\n",
        "\n",
        "dBC = l * Matrix([c2, s2])\n",
        "rC = rB + dBC\n",
        "\n",
        "pprint(\"\\nrC / m:\")\n",
        "pprint(N(rC, 3))\n"
      ],
      "outputs": [],
      "execution_count": null
    }
  ],
  "metadata": {
    "anaconda-cloud": {},
    "kernelspec": {
      "display_name": "Python 3",
      "language": "python",
      "name": "python3"
    },
    "language_info": {
      "codemirror_mode": {
        "name": "ipython",
        "version": 3
      },
      "file_extension": ".py",
      "mimetype": "text/x-python",
      "name": "python",
      "nbconvert_exporter": "python",
      "pygments_lexer": "ipython3",
      "version": "3.6.1"
    }
  },
  "nbformat": 4,
  "nbformat_minor": 1
}